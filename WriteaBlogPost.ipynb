{
 "cells": [
  {
   "cell_type": "markdown",
   "metadata": {},
   "source": [
    "> Each stage of the CRISP-DM process will be looked at in this notebook. These stages are:\n",
    "\n",
    ">1.Business Understanding   \n",
    ">2.Data Understanding       \n",
    ">3.Prepare Data    \n",
    ">4.Data Modeling     \n",
    ">5.Evaluate the Results\n",
    "## 1. Business Understanding\n",
    ">In this notebook, I will be exploring the 2017 Stack Overflow results in order to glean some information on professional developers in Nigeria and what to focus on to have the best career.\n",
    ">There will be three questions I will seek to answer in order to get this information:\n",
    ">1. What are the most common languages, framework, and databases used by professionals in Nigeria\n",
    ">2. What are the most want work languages and framework by professionals in Nigeria\n",
    ">3. Which programming language has the highest job satisfaction\n",
    "## 2. Data Understanding\n",
    "> In order to gain some understanding of the data I loaded it into a dataframe and ran df.head(). This gave me 5 example entries of each column. I also filter the Country to Nigeria."
   ]
  },
  {
   "cell_type": "code",
   "execution_count": 1,
   "metadata": {},
   "outputs": [],
   "source": [
    "import pandas as pd\n",
    "import numpy as np\n",
    "import matplotlib.pyplot as plt\n",
    "%matplotlib inline"
   ]
  },
  {
   "cell_type": "code",
   "execution_count": 2,
   "metadata": {},
   "outputs": [
    {
     "data": {
      "text/html": [
       "<div>\n",
       "<style scoped>\n",
       "    .dataframe tbody tr th:only-of-type {\n",
       "        vertical-align: middle;\n",
       "    }\n",
       "\n",
       "    .dataframe tbody tr th {\n",
       "        vertical-align: top;\n",
       "    }\n",
       "\n",
       "    .dataframe thead th {\n",
       "        text-align: right;\n",
       "    }\n",
       "</style>\n",
       "<table border=\"1\" class=\"dataframe\">\n",
       "  <thead>\n",
       "    <tr style=\"text-align: right;\">\n",
       "      <th></th>\n",
       "      <th>Respondent</th>\n",
       "      <th>Professional</th>\n",
       "      <th>ProgramHobby</th>\n",
       "      <th>Country</th>\n",
       "      <th>University</th>\n",
       "      <th>EmploymentStatus</th>\n",
       "      <th>FormalEducation</th>\n",
       "      <th>MajorUndergrad</th>\n",
       "      <th>HomeRemote</th>\n",
       "      <th>CompanySize</th>\n",
       "      <th>...</th>\n",
       "      <th>StackOverflowMakeMoney</th>\n",
       "      <th>Gender</th>\n",
       "      <th>HighestEducationParents</th>\n",
       "      <th>Race</th>\n",
       "      <th>SurveyLong</th>\n",
       "      <th>QuestionsInteresting</th>\n",
       "      <th>QuestionsConfusing</th>\n",
       "      <th>InterestedAnswers</th>\n",
       "      <th>Salary</th>\n",
       "      <th>ExpectedSalary</th>\n",
       "    </tr>\n",
       "  </thead>\n",
       "  <tbody>\n",
       "    <tr>\n",
       "      <td>0</td>\n",
       "      <td>1</td>\n",
       "      <td>Student</td>\n",
       "      <td>Yes, both</td>\n",
       "      <td>United States</td>\n",
       "      <td>No</td>\n",
       "      <td>Not employed, and not looking for work</td>\n",
       "      <td>Secondary school</td>\n",
       "      <td>NaN</td>\n",
       "      <td>NaN</td>\n",
       "      <td>NaN</td>\n",
       "      <td>...</td>\n",
       "      <td>Strongly disagree</td>\n",
       "      <td>Male</td>\n",
       "      <td>High school</td>\n",
       "      <td>White or of European descent</td>\n",
       "      <td>Strongly disagree</td>\n",
       "      <td>Strongly agree</td>\n",
       "      <td>Disagree</td>\n",
       "      <td>Strongly agree</td>\n",
       "      <td>NaN</td>\n",
       "      <td>NaN</td>\n",
       "    </tr>\n",
       "    <tr>\n",
       "      <td>1</td>\n",
       "      <td>2</td>\n",
       "      <td>Student</td>\n",
       "      <td>Yes, both</td>\n",
       "      <td>United Kingdom</td>\n",
       "      <td>Yes, full-time</td>\n",
       "      <td>Employed part-time</td>\n",
       "      <td>Some college/university study without earning ...</td>\n",
       "      <td>Computer science or software engineering</td>\n",
       "      <td>More than half, but not all, the time</td>\n",
       "      <td>20 to 99 employees</td>\n",
       "      <td>...</td>\n",
       "      <td>Strongly disagree</td>\n",
       "      <td>Male</td>\n",
       "      <td>A master's degree</td>\n",
       "      <td>White or of European descent</td>\n",
       "      <td>Somewhat agree</td>\n",
       "      <td>Somewhat agree</td>\n",
       "      <td>Disagree</td>\n",
       "      <td>Strongly agree</td>\n",
       "      <td>NaN</td>\n",
       "      <td>37500.0</td>\n",
       "    </tr>\n",
       "    <tr>\n",
       "      <td>2</td>\n",
       "      <td>3</td>\n",
       "      <td>Professional developer</td>\n",
       "      <td>Yes, both</td>\n",
       "      <td>United Kingdom</td>\n",
       "      <td>No</td>\n",
       "      <td>Employed full-time</td>\n",
       "      <td>Bachelor's degree</td>\n",
       "      <td>Computer science or software engineering</td>\n",
       "      <td>Less than half the time, but at least one day ...</td>\n",
       "      <td>10,000 or more employees</td>\n",
       "      <td>...</td>\n",
       "      <td>Disagree</td>\n",
       "      <td>Male</td>\n",
       "      <td>A professional degree</td>\n",
       "      <td>White or of European descent</td>\n",
       "      <td>Somewhat agree</td>\n",
       "      <td>Agree</td>\n",
       "      <td>Disagree</td>\n",
       "      <td>Agree</td>\n",
       "      <td>113750.0</td>\n",
       "      <td>NaN</td>\n",
       "    </tr>\n",
       "    <tr>\n",
       "      <td>3</td>\n",
       "      <td>4</td>\n",
       "      <td>Professional non-developer who sometimes write...</td>\n",
       "      <td>Yes, both</td>\n",
       "      <td>United States</td>\n",
       "      <td>No</td>\n",
       "      <td>Employed full-time</td>\n",
       "      <td>Doctoral degree</td>\n",
       "      <td>A non-computer-focused engineering discipline</td>\n",
       "      <td>Less than half the time, but at least one day ...</td>\n",
       "      <td>10,000 or more employees</td>\n",
       "      <td>...</td>\n",
       "      <td>Disagree</td>\n",
       "      <td>Male</td>\n",
       "      <td>A doctoral degree</td>\n",
       "      <td>White or of European descent</td>\n",
       "      <td>Agree</td>\n",
       "      <td>Agree</td>\n",
       "      <td>Somewhat agree</td>\n",
       "      <td>Strongly agree</td>\n",
       "      <td>NaN</td>\n",
       "      <td>NaN</td>\n",
       "    </tr>\n",
       "    <tr>\n",
       "      <td>4</td>\n",
       "      <td>5</td>\n",
       "      <td>Professional developer</td>\n",
       "      <td>Yes, I program as a hobby</td>\n",
       "      <td>Switzerland</td>\n",
       "      <td>No</td>\n",
       "      <td>Employed full-time</td>\n",
       "      <td>Master's degree</td>\n",
       "      <td>Computer science or software engineering</td>\n",
       "      <td>Never</td>\n",
       "      <td>10 to 19 employees</td>\n",
       "      <td>...</td>\n",
       "      <td>NaN</td>\n",
       "      <td>NaN</td>\n",
       "      <td>NaN</td>\n",
       "      <td>NaN</td>\n",
       "      <td>NaN</td>\n",
       "      <td>NaN</td>\n",
       "      <td>NaN</td>\n",
       "      <td>NaN</td>\n",
       "      <td>NaN</td>\n",
       "      <td>NaN</td>\n",
       "    </tr>\n",
       "  </tbody>\n",
       "</table>\n",
       "<p>5 rows × 154 columns</p>\n",
       "</div>"
      ],
      "text/plain": [
       "   Respondent                                       Professional  \\\n",
       "0           1                                            Student   \n",
       "1           2                                            Student   \n",
       "2           3                             Professional developer   \n",
       "3           4  Professional non-developer who sometimes write...   \n",
       "4           5                             Professional developer   \n",
       "\n",
       "                ProgramHobby         Country      University  \\\n",
       "0                  Yes, both   United States              No   \n",
       "1                  Yes, both  United Kingdom  Yes, full-time   \n",
       "2                  Yes, both  United Kingdom              No   \n",
       "3                  Yes, both   United States              No   \n",
       "4  Yes, I program as a hobby     Switzerland              No   \n",
       "\n",
       "                         EmploymentStatus  \\\n",
       "0  Not employed, and not looking for work   \n",
       "1                      Employed part-time   \n",
       "2                      Employed full-time   \n",
       "3                      Employed full-time   \n",
       "4                      Employed full-time   \n",
       "\n",
       "                                     FormalEducation  \\\n",
       "0                                   Secondary school   \n",
       "1  Some college/university study without earning ...   \n",
       "2                                  Bachelor's degree   \n",
       "3                                    Doctoral degree   \n",
       "4                                    Master's degree   \n",
       "\n",
       "                                  MajorUndergrad  \\\n",
       "0                                            NaN   \n",
       "1       Computer science or software engineering   \n",
       "2       Computer science or software engineering   \n",
       "3  A non-computer-focused engineering discipline   \n",
       "4       Computer science or software engineering   \n",
       "\n",
       "                                          HomeRemote  \\\n",
       "0                                                NaN   \n",
       "1              More than half, but not all, the time   \n",
       "2  Less than half the time, but at least one day ...   \n",
       "3  Less than half the time, but at least one day ...   \n",
       "4                                              Never   \n",
       "\n",
       "                CompanySize  ... StackOverflowMakeMoney Gender  \\\n",
       "0                       NaN  ...      Strongly disagree   Male   \n",
       "1        20 to 99 employees  ...      Strongly disagree   Male   \n",
       "2  10,000 or more employees  ...               Disagree   Male   \n",
       "3  10,000 or more employees  ...               Disagree   Male   \n",
       "4        10 to 19 employees  ...                    NaN    NaN   \n",
       "\n",
       "  HighestEducationParents                          Race         SurveyLong  \\\n",
       "0             High school  White or of European descent  Strongly disagree   \n",
       "1       A master's degree  White or of European descent     Somewhat agree   \n",
       "2   A professional degree  White or of European descent     Somewhat agree   \n",
       "3       A doctoral degree  White or of European descent              Agree   \n",
       "4                     NaN                           NaN                NaN   \n",
       "\n",
       "  QuestionsInteresting QuestionsConfusing InterestedAnswers    Salary  \\\n",
       "0       Strongly agree           Disagree    Strongly agree       NaN   \n",
       "1       Somewhat agree           Disagree    Strongly agree       NaN   \n",
       "2                Agree           Disagree             Agree  113750.0   \n",
       "3                Agree     Somewhat agree    Strongly agree       NaN   \n",
       "4                  NaN                NaN               NaN       NaN   \n",
       "\n",
       "   ExpectedSalary  \n",
       "0             NaN  \n",
       "1         37500.0  \n",
       "2             NaN  \n",
       "3             NaN  \n",
       "4             NaN  \n",
       "\n",
       "[5 rows x 154 columns]"
      ]
     },
     "execution_count": 2,
     "metadata": {},
     "output_type": "execute_result"
    }
   ],
   "source": [
    "# Reading Stackoverflow survey data\n",
    "df = pd.read_csv('survey_results_public.csv')\n",
    "df.head()"
   ]
  },
  {
   "cell_type": "markdown",
   "metadata": {},
   "source": [
    "### Question 1: What are the most common languages, framework and databases used by professionals in Nigeria\n",
    "## 3. Prepare Data\n",
    "The data will be prepared here by selecting the desired columns and only using the rows where a professional devloper was taking the survey\n",
    "\n",
    "All rows were dropped where the Professional column did not equal \"Professional Developer\" as I was only interested in Professional Developers. This was the only way in which I needed to handle Nan values and categorical values."
   ]
  },
  {
   "cell_type": "code",
   "execution_count": 3,
   "metadata": {},
   "outputs": [
    {
     "data": {
      "text/html": [
       "<div>\n",
       "<style scoped>\n",
       "    .dataframe tbody tr th:only-of-type {\n",
       "        vertical-align: middle;\n",
       "    }\n",
       "\n",
       "    .dataframe tbody tr th {\n",
       "        vertical-align: top;\n",
       "    }\n",
       "\n",
       "    .dataframe thead th {\n",
       "        text-align: right;\n",
       "    }\n",
       "</style>\n",
       "<table border=\"1\" class=\"dataframe\">\n",
       "  <thead>\n",
       "    <tr style=\"text-align: right;\">\n",
       "      <th></th>\n",
       "      <th>Respondent</th>\n",
       "      <th>Professional</th>\n",
       "      <th>ProgramHobby</th>\n",
       "      <th>Country</th>\n",
       "      <th>University</th>\n",
       "      <th>EmploymentStatus</th>\n",
       "      <th>FormalEducation</th>\n",
       "      <th>MajorUndergrad</th>\n",
       "      <th>HomeRemote</th>\n",
       "      <th>CompanySize</th>\n",
       "      <th>...</th>\n",
       "      <th>StackOverflowMakeMoney</th>\n",
       "      <th>Gender</th>\n",
       "      <th>HighestEducationParents</th>\n",
       "      <th>Race</th>\n",
       "      <th>SurveyLong</th>\n",
       "      <th>QuestionsInteresting</th>\n",
       "      <th>QuestionsConfusing</th>\n",
       "      <th>InterestedAnswers</th>\n",
       "      <th>Salary</th>\n",
       "      <th>ExpectedSalary</th>\n",
       "    </tr>\n",
       "  </thead>\n",
       "  <tbody>\n",
       "    <tr>\n",
       "      <td>1180</td>\n",
       "      <td>1181</td>\n",
       "      <td>Professional developer</td>\n",
       "      <td>Yes, both</td>\n",
       "      <td>Nigeria</td>\n",
       "      <td>No</td>\n",
       "      <td>Employed full-time</td>\n",
       "      <td>Bachelor's degree</td>\n",
       "      <td>A non-computer-focused engineering discipline</td>\n",
       "      <td>All or almost all the time (I'm full-time remote)</td>\n",
       "      <td>1,000 to 4,999 employees</td>\n",
       "      <td>...</td>\n",
       "      <td>NaN</td>\n",
       "      <td>NaN</td>\n",
       "      <td>NaN</td>\n",
       "      <td>NaN</td>\n",
       "      <td>NaN</td>\n",
       "      <td>NaN</td>\n",
       "      <td>NaN</td>\n",
       "      <td>NaN</td>\n",
       "      <td>NaN</td>\n",
       "      <td>NaN</td>\n",
       "    </tr>\n",
       "    <tr>\n",
       "      <td>1399</td>\n",
       "      <td>1400</td>\n",
       "      <td>Professional developer</td>\n",
       "      <td>Yes, I program as a hobby</td>\n",
       "      <td>Nigeria</td>\n",
       "      <td>No</td>\n",
       "      <td>Independent contractor, freelancer, or self-em...</td>\n",
       "      <td>Secondary school</td>\n",
       "      <td>NaN</td>\n",
       "      <td>More than half, but not all, the time</td>\n",
       "      <td>NaN</td>\n",
       "      <td>...</td>\n",
       "      <td>NaN</td>\n",
       "      <td>NaN</td>\n",
       "      <td>NaN</td>\n",
       "      <td>NaN</td>\n",
       "      <td>NaN</td>\n",
       "      <td>NaN</td>\n",
       "      <td>NaN</td>\n",
       "      <td>NaN</td>\n",
       "      <td>NaN</td>\n",
       "      <td>NaN</td>\n",
       "    </tr>\n",
       "    <tr>\n",
       "      <td>1420</td>\n",
       "      <td>1421</td>\n",
       "      <td>Student</td>\n",
       "      <td>Yes, both</td>\n",
       "      <td>Nigeria</td>\n",
       "      <td>Yes, full-time</td>\n",
       "      <td>Independent contractor, freelancer, or self-em...</td>\n",
       "      <td>Secondary school</td>\n",
       "      <td>NaN</td>\n",
       "      <td>It's complicated</td>\n",
       "      <td>NaN</td>\n",
       "      <td>...</td>\n",
       "      <td>Disagree</td>\n",
       "      <td>Male</td>\n",
       "      <td>A master's degree</td>\n",
       "      <td>Black or of African descent</td>\n",
       "      <td>Somewhat agree</td>\n",
       "      <td>Strongly agree</td>\n",
       "      <td>Disagree</td>\n",
       "      <td>Strongly agree</td>\n",
       "      <td>NaN</td>\n",
       "      <td>5718.824464</td>\n",
       "    </tr>\n",
       "    <tr>\n",
       "      <td>1453</td>\n",
       "      <td>1454</td>\n",
       "      <td>Professional non-developer who sometimes write...</td>\n",
       "      <td>Yes, I contribute to open source projects</td>\n",
       "      <td>Nigeria</td>\n",
       "      <td>Yes, full-time</td>\n",
       "      <td>Independent contractor, freelancer, or self-em...</td>\n",
       "      <td>Some college/university study without earning ...</td>\n",
       "      <td>A humanities discipline</td>\n",
       "      <td>More than half, but not all, the time</td>\n",
       "      <td>NaN</td>\n",
       "      <td>...</td>\n",
       "      <td>NaN</td>\n",
       "      <td>NaN</td>\n",
       "      <td>NaN</td>\n",
       "      <td>NaN</td>\n",
       "      <td>NaN</td>\n",
       "      <td>NaN</td>\n",
       "      <td>NaN</td>\n",
       "      <td>NaN</td>\n",
       "      <td>NaN</td>\n",
       "      <td>NaN</td>\n",
       "    </tr>\n",
       "    <tr>\n",
       "      <td>1581</td>\n",
       "      <td>1582</td>\n",
       "      <td>Professional developer</td>\n",
       "      <td>Yes, I program as a hobby</td>\n",
       "      <td>Nigeria</td>\n",
       "      <td>No</td>\n",
       "      <td>Employed full-time</td>\n",
       "      <td>Master's degree</td>\n",
       "      <td>Computer science or software engineering</td>\n",
       "      <td>All or almost all the time (I'm full-time remote)</td>\n",
       "      <td>100 to 499 employees</td>\n",
       "      <td>...</td>\n",
       "      <td>Disagree</td>\n",
       "      <td>Male</td>\n",
       "      <td>A master's degree</td>\n",
       "      <td>Black or of African descent</td>\n",
       "      <td>Somewhat agree</td>\n",
       "      <td>Agree</td>\n",
       "      <td>Strongly disagree</td>\n",
       "      <td>Agree</td>\n",
       "      <td>4117.553614</td>\n",
       "      <td>NaN</td>\n",
       "    </tr>\n",
       "  </tbody>\n",
       "</table>\n",
       "<p>5 rows × 154 columns</p>\n",
       "</div>"
      ],
      "text/plain": [
       "      Respondent                                       Professional  \\\n",
       "1180        1181                             Professional developer   \n",
       "1399        1400                             Professional developer   \n",
       "1420        1421                                            Student   \n",
       "1453        1454  Professional non-developer who sometimes write...   \n",
       "1581        1582                             Professional developer   \n",
       "\n",
       "                                   ProgramHobby  Country      University  \\\n",
       "1180                                  Yes, both  Nigeria              No   \n",
       "1399                  Yes, I program as a hobby  Nigeria              No   \n",
       "1420                                  Yes, both  Nigeria  Yes, full-time   \n",
       "1453  Yes, I contribute to open source projects  Nigeria  Yes, full-time   \n",
       "1581                  Yes, I program as a hobby  Nigeria              No   \n",
       "\n",
       "                                       EmploymentStatus  \\\n",
       "1180                                 Employed full-time   \n",
       "1399  Independent contractor, freelancer, or self-em...   \n",
       "1420  Independent contractor, freelancer, or self-em...   \n",
       "1453  Independent contractor, freelancer, or self-em...   \n",
       "1581                                 Employed full-time   \n",
       "\n",
       "                                        FormalEducation  \\\n",
       "1180                                  Bachelor's degree   \n",
       "1399                                   Secondary school   \n",
       "1420                                   Secondary school   \n",
       "1453  Some college/university study without earning ...   \n",
       "1581                                    Master's degree   \n",
       "\n",
       "                                     MajorUndergrad  \\\n",
       "1180  A non-computer-focused engineering discipline   \n",
       "1399                                            NaN   \n",
       "1420                                            NaN   \n",
       "1453                        A humanities discipline   \n",
       "1581       Computer science or software engineering   \n",
       "\n",
       "                                             HomeRemote  \\\n",
       "1180  All or almost all the time (I'm full-time remote)   \n",
       "1399              More than half, but not all, the time   \n",
       "1420                                   It's complicated   \n",
       "1453              More than half, but not all, the time   \n",
       "1581  All or almost all the time (I'm full-time remote)   \n",
       "\n",
       "                   CompanySize  ... StackOverflowMakeMoney Gender  \\\n",
       "1180  1,000 to 4,999 employees  ...                    NaN    NaN   \n",
       "1399                       NaN  ...                    NaN    NaN   \n",
       "1420                       NaN  ...               Disagree   Male   \n",
       "1453                       NaN  ...                    NaN    NaN   \n",
       "1581      100 to 499 employees  ...               Disagree   Male   \n",
       "\n",
       "     HighestEducationParents                         Race      SurveyLong  \\\n",
       "1180                     NaN                          NaN             NaN   \n",
       "1399                     NaN                          NaN             NaN   \n",
       "1420       A master's degree  Black or of African descent  Somewhat agree   \n",
       "1453                     NaN                          NaN             NaN   \n",
       "1581       A master's degree  Black or of African descent  Somewhat agree   \n",
       "\n",
       "     QuestionsInteresting QuestionsConfusing InterestedAnswers       Salary  \\\n",
       "1180                  NaN                NaN               NaN          NaN   \n",
       "1399                  NaN                NaN               NaN          NaN   \n",
       "1420       Strongly agree           Disagree    Strongly agree          NaN   \n",
       "1453                  NaN                NaN               NaN          NaN   \n",
       "1581                Agree  Strongly disagree             Agree  4117.553614   \n",
       "\n",
       "      ExpectedSalary  \n",
       "1180             NaN  \n",
       "1399             NaN  \n",
       "1420     5718.824464  \n",
       "1453             NaN  \n",
       "1581             NaN  \n",
       "\n",
       "[5 rows x 154 columns]"
      ]
     },
     "execution_count": 3,
     "metadata": {},
     "output_type": "execute_result"
    }
   ],
   "source": [
    "# filter the data\n",
    "data = df[df.Country == \"Nigeria\"]\n",
    "data.head()"
   ]
  },
  {
   "cell_type": "code",
   "execution_count": 4,
   "metadata": {},
   "outputs": [
    {
     "data": {
      "text/html": [
       "<div>\n",
       "<style scoped>\n",
       "    .dataframe tbody tr th:only-of-type {\n",
       "        vertical-align: middle;\n",
       "    }\n",
       "\n",
       "    .dataframe tbody tr th {\n",
       "        vertical-align: top;\n",
       "    }\n",
       "\n",
       "    .dataframe thead th {\n",
       "        text-align: right;\n",
       "    }\n",
       "</style>\n",
       "<table border=\"1\" class=\"dataframe\">\n",
       "  <thead>\n",
       "    <tr style=\"text-align: right;\">\n",
       "      <th></th>\n",
       "      <th>Professional</th>\n",
       "      <th>HaveWorkedLanguage</th>\n",
       "      <th>WantWorkLanguage</th>\n",
       "      <th>HaveWorkedFramework</th>\n",
       "      <th>HaveWorkedDatabase</th>\n",
       "      <th>Methodology</th>\n",
       "      <th>HaveWorkedPlatform</th>\n",
       "      <th>JobSatisfaction</th>\n",
       "      <th>WantWorkFramework</th>\n",
       "    </tr>\n",
       "  </thead>\n",
       "  <tbody>\n",
       "    <tr>\n",
       "      <td>1180</td>\n",
       "      <td>Professional developer</td>\n",
       "      <td>NaN</td>\n",
       "      <td>NaN</td>\n",
       "      <td>NaN</td>\n",
       "      <td>NaN</td>\n",
       "      <td>NaN</td>\n",
       "      <td>NaN</td>\n",
       "      <td>7.0</td>\n",
       "      <td>NaN</td>\n",
       "    </tr>\n",
       "    <tr>\n",
       "      <td>1399</td>\n",
       "      <td>Professional developer</td>\n",
       "      <td>Java; JavaScript; PHP; Python</td>\n",
       "      <td>Common Lisp; Go; Haskell</td>\n",
       "      <td>AngularJS; Node.js; Firebase</td>\n",
       "      <td>Redis; MySQL; SQLite</td>\n",
       "      <td>Agile</td>\n",
       "      <td>Amazon Web Services (AWS)</td>\n",
       "      <td>7.0</td>\n",
       "      <td>Hadoop; Cordova; Xamarin</td>\n",
       "    </tr>\n",
       "    <tr>\n",
       "      <td>1581</td>\n",
       "      <td>Professional developer</td>\n",
       "      <td>Java; JavaScript; PHP; SQL; Swift</td>\n",
       "      <td>C#; CoffeeScript; Dart; Go; Python; Ruby</td>\n",
       "      <td>AngularJS; Node.js; Firebase</td>\n",
       "      <td>MongoDB; MySQL; PostgreSQL</td>\n",
       "      <td>NaN</td>\n",
       "      <td>Android; Windows Desktop; Linux Desktop</td>\n",
       "      <td>8.0</td>\n",
       "      <td>React; Cordova</td>\n",
       "    </tr>\n",
       "    <tr>\n",
       "      <td>1669</td>\n",
       "      <td>Professional developer</td>\n",
       "      <td>C; JavaScript; PHP; Python; SQL</td>\n",
       "      <td>C; Go; JavaScript; PHP; Python; SQL; TypeScript</td>\n",
       "      <td>Node.js; React</td>\n",
       "      <td>PostgreSQL; SQLite</td>\n",
       "      <td>NaN</td>\n",
       "      <td>Linux Desktop; WordPress; Amazon Web Services ...</td>\n",
       "      <td>6.0</td>\n",
       "      <td>AngularJS; Node.js; React; Firebase</td>\n",
       "    </tr>\n",
       "    <tr>\n",
       "      <td>3158</td>\n",
       "      <td>Professional developer</td>\n",
       "      <td>Java</td>\n",
       "      <td>JavaScript; Python; Scala</td>\n",
       "      <td>NaN</td>\n",
       "      <td>MySQL</td>\n",
       "      <td>NaN</td>\n",
       "      <td>Android; Amazon Web Services (AWS)</td>\n",
       "      <td>3.0</td>\n",
       "      <td>Node.js</td>\n",
       "    </tr>\n",
       "  </tbody>\n",
       "</table>\n",
       "</div>"
      ],
      "text/plain": [
       "                Professional                 HaveWorkedLanguage  \\\n",
       "1180  Professional developer                                NaN   \n",
       "1399  Professional developer      Java; JavaScript; PHP; Python   \n",
       "1581  Professional developer  Java; JavaScript; PHP; SQL; Swift   \n",
       "1669  Professional developer    C; JavaScript; PHP; Python; SQL   \n",
       "3158  Professional developer                               Java   \n",
       "\n",
       "                                     WantWorkLanguage  \\\n",
       "1180                                              NaN   \n",
       "1399                         Common Lisp; Go; Haskell   \n",
       "1581         C#; CoffeeScript; Dart; Go; Python; Ruby   \n",
       "1669  C; Go; JavaScript; PHP; Python; SQL; TypeScript   \n",
       "3158                        JavaScript; Python; Scala   \n",
       "\n",
       "               HaveWorkedFramework          HaveWorkedDatabase Methodology  \\\n",
       "1180                           NaN                         NaN         NaN   \n",
       "1399  AngularJS; Node.js; Firebase        Redis; MySQL; SQLite       Agile   \n",
       "1581  AngularJS; Node.js; Firebase  MongoDB; MySQL; PostgreSQL         NaN   \n",
       "1669                Node.js; React          PostgreSQL; SQLite         NaN   \n",
       "3158                           NaN                       MySQL         NaN   \n",
       "\n",
       "                                     HaveWorkedPlatform  JobSatisfaction  \\\n",
       "1180                                                NaN              7.0   \n",
       "1399                          Amazon Web Services (AWS)              7.0   \n",
       "1581            Android; Windows Desktop; Linux Desktop              8.0   \n",
       "1669  Linux Desktop; WordPress; Amazon Web Services ...              6.0   \n",
       "3158                 Android; Amazon Web Services (AWS)              3.0   \n",
       "\n",
       "                        WantWorkFramework  \n",
       "1180                                  NaN  \n",
       "1399             Hadoop; Cordova; Xamarin  \n",
       "1581                       React; Cordova  \n",
       "1669  AngularJS; Node.js; React; Firebase  \n",
       "3158                              Node.js  "
      ]
     },
     "execution_count": 4,
     "metadata": {},
     "output_type": "execute_result"
    }
   ],
   "source": [
    "#selecting the desired columns\n",
    "data_df = data[['Professional', 'HaveWorkedLanguage','WantWorkLanguage', 'HaveWorkedFramework', 'HaveWorkedDatabase', \n",
    "                'Methodology', 'HaveWorkedPlatform','JobSatisfaction','WantWorkFramework']]\n",
    "\n",
    "data_df = data_df[data_df.Professional == \"Professional developer\"]\n",
    "data_df.head()"
   ]
  },
  {
   "cell_type": "markdown",
   "metadata": {},
   "source": [
    "## 4. Data Modelling\n",
    "#### The most commonly used languages are displayed here"
   ]
  },
  {
   "cell_type": "code",
   "execution_count": 15,
   "metadata": {},
   "outputs": [
    {
     "data": {
      "image/png": "[encoded data removed]",
      "text/plain": [
       "<Figure size 864x432 with 1 Axes>"
      ]
     },
     "metadata": {
      "needs_background": "light"
     },
     "output_type": "display_data"
    }
   ],
   "source": [
    "languages = data_df['HaveWorkedLanguage'].str.split('; ', expand=True).stack().value_counts()\n",
    "plt.figure(figsize=(12,6))\n",
    "(languages[:10]/df.shape[0]).plot(kind=\"bar\");\n",
    "plt.xlabel(\"Languages\", fontsize = 12)\n",
    "plt.ylabel(\"Percentage\", fontsize = 12)\n",
    "plt.title(\"Most used Languages in Nigeria\", size = 16);\n"
   ]
  },
  {
   "cell_type": "markdown",
   "metadata": {},
   "source": [
    "#### The most commonly used framework are displayed here"
   ]
  },
  {
   "cell_type": "code",
   "execution_count": 6,
   "metadata": {},
   "outputs": [
    {
     "data": {
      "image/png": "[encoded data removed]",
      "text/plain": [
       "<Figure size 864x432 with 1 Axes>"
      ]
     },
     "metadata": {
      "needs_background": "light"
     },
     "output_type": "display_data"
    }
   ],
   "source": [
    "frameworks = data_df['HaveWorkedFramework'].str.split('; ', expand=True).stack().value_counts()\n",
    "plt.figure(figsize=(12,6))\n",
    "(frameworks[:10]/df.shape[0]).plot(kind=\"bar\");\n",
    "plt.xlabel(\"Frameworks\", fontsize = 12)\n",
    "plt.ylabel(\"Percentage\", fontsize = 12)\n",
    "\n",
    "plt.title(\"Most used Frameworks in Nigeria\");"
   ]
  },
  {
   "cell_type": "markdown",
   "metadata": {},
   "source": [
    "#### The most commonly used databases are displayed here"
   ]
  },
  {
   "cell_type": "code",
   "execution_count": 7,
   "metadata": {},
   "outputs": [
    {
     "data": {
      "image/png": "[encoded data removed]",
      "text/plain": [
       "<Figure size 864x432 with 1 Axes>"
      ]
     },
     "metadata": {
      "needs_background": "light"
     },
     "output_type": "display_data"
    }
   ],
   "source": [
    "databases = data_df['HaveWorkedDatabase'].str.split('; ', expand=True).stack().value_counts()\n",
    "plt.figure(figsize=(12,6))\n",
    "(databases[:10]/df.shape[0]).plot(kind=\"bar\");\n",
    "plt.xlabel(\"Databases\", fontsize = 12)\n",
    "plt.ylabel(\"Percentage\", fontsize = 12)\n",
    "\n",
    "plt.title(\"Most used Databases in Nigeria\");"
   ]
  },
  {
   "cell_type": "markdown",
   "metadata": {},
   "source": [
    "## 5. Evaluate the Results\n",
    "From the charts above we can see that:\n",
    "JavaScript,PHP,SQL,Java,and C# are the most used languages by professional developers and therefore would be the most in demand and transferable skill between jobs. To support this, the most used frameworks are mostly JavaScript based. MySQL is also the most popular used  database by professional developers in Nigeria."
   ]
  },
  {
   "cell_type": "markdown",
   "metadata": {},
   "source": [
    "## Question 2: What are the most want work languages and framework by professionals in Nigeria"
   ]
  },
  {
   "cell_type": "markdown",
   "metadata": {},
   "source": [
    "#### The most want want languages are displayed here"
   ]
  },
  {
   "cell_type": "code",
   "execution_count": 16,
   "metadata": {},
   "outputs": [
    {
     "data": {
      "image/png": "[encoded data removed]",
      "text/plain": [
       "<Figure size 864x432 with 1 Axes>"
      ]
     },
     "metadata": {
      "needs_background": "light"
     },
     "output_type": "display_data"
    }
   ],
   "source": [
    "want_work_lang = data_df['WantWorkLanguage'].str.split('; ', expand=True).stack().value_counts()\n",
    "plt.figure(figsize=(12,6))\n",
    "(want_work_lang[:10]/df.shape[0]).plot(kind=\"bar\");\n",
    "plt.xlabel(\"Languages\", fontsize = 12)\n",
    "plt.ylabel(\"Percentage\", fontsize = 12)\n",
    "plt.title(\"Want Work Languages in Nigeria\", size = 16);"
   ]
  },
  {
   "cell_type": "markdown",
   "metadata": {},
   "source": [
    "#### The most want work framework are displayed here"
   ]
  },
  {
   "cell_type": "code",
   "execution_count": 17,
   "metadata": {},
   "outputs": [
    {
     "data": {
      "image/png": "[encoded data removed]",
      "text/plain": [
       "<Figure size 864x432 with 1 Axes>"
      ]
     },
     "metadata": {
      "needs_background": "light"
     },
     "output_type": "display_data"
    }
   ],
   "source": [
    "want_work_frame = data_df['WantWorkFramework'].str.split('; ', expand=True).stack().value_counts()\n",
    "plt.figure(figsize=(12,6))\n",
    "(want_work_frame[:10]/df.shape[0]).plot(kind=\"bar\");\n",
    "plt.xlabel(\"Framework\", fontsize = 12)\n",
    "plt.ylabel(\"Percentage\", fontsize = 12)\n",
    "plt.title(\"Want Work Framework in Nigeria\", size = 16);"
   ]
  },
  {
   "cell_type": "markdown",
   "metadata": {},
   "source": [
    "As we can see from this chart,The most want want programming language in Nigeria is Javascript,Python and SQL. while the most want work Framework is Node.js and AngularJS which are Javascript based."
   ]
  },
  {
   "cell_type": "markdown",
   "metadata": {},
   "source": [
    "## Question 3: Which programming language has the highest job satisfaction"
   ]
  },
  {
   "cell_type": "code",
   "execution_count": 10,
   "metadata": {},
   "outputs": [
    {
     "data": {
      "text/html": [
       "<div>\n",
       "<style scoped>\n",
       "    .dataframe tbody tr th:only-of-type {\n",
       "        vertical-align: middle;\n",
       "    }\n",
       "\n",
       "    .dataframe tbody tr th {\n",
       "        vertical-align: top;\n",
       "    }\n",
       "\n",
       "    .dataframe thead th {\n",
       "        text-align: right;\n",
       "    }\n",
       "</style>\n",
       "<table border=\"1\" class=\"dataframe\">\n",
       "  <thead>\n",
       "    <tr style=\"text-align: right;\">\n",
       "      <th></th>\n",
       "      <th>HaveWorkedLanguage</th>\n",
       "      <th>JobSatisfaction</th>\n",
       "    </tr>\n",
       "  </thead>\n",
       "  <tbody>\n",
       "    <tr>\n",
       "      <td>1399</td>\n",
       "      <td>Java; JavaScript; PHP; Python</td>\n",
       "      <td>7.0</td>\n",
       "    </tr>\n",
       "    <tr>\n",
       "      <td>1581</td>\n",
       "      <td>Java; JavaScript; PHP; SQL; Swift</td>\n",
       "      <td>8.0</td>\n",
       "    </tr>\n",
       "    <tr>\n",
       "      <td>1669</td>\n",
       "      <td>C; JavaScript; PHP; Python; SQL</td>\n",
       "      <td>6.0</td>\n",
       "    </tr>\n",
       "    <tr>\n",
       "      <td>3158</td>\n",
       "      <td>Java</td>\n",
       "      <td>3.0</td>\n",
       "    </tr>\n",
       "    <tr>\n",
       "      <td>3751</td>\n",
       "      <td>Haskell</td>\n",
       "      <td>5.0</td>\n",
       "    </tr>\n",
       "  </tbody>\n",
       "</table>\n",
       "</div>"
      ],
      "text/plain": [
       "                     HaveWorkedLanguage  JobSatisfaction\n",
       "1399      Java; JavaScript; PHP; Python              7.0\n",
       "1581  Java; JavaScript; PHP; SQL; Swift              8.0\n",
       "1669    C; JavaScript; PHP; Python; SQL              6.0\n",
       "3158                               Java              3.0\n",
       "3751                            Haskell              5.0"
      ]
     },
     "execution_count": 10,
     "metadata": {},
     "output_type": "execute_result"
    }
   ],
   "source": [
    "# selecting the necessary columns\n",
    "data_df2 = data_df[[ 'HaveWorkedLanguage', 'JobSatisfaction']]\n",
    "data_df2 = data_df2.dropna(subset=['HaveWorkedLanguage','JobSatisfaction'], axis=0)\n",
    "data_df2.head()"
   ]
  },
  {
   "cell_type": "code",
   "execution_count": 11,
   "metadata": {},
   "outputs": [],
   "source": [
    "def split_column(column_to_split, delimeter, column_to_store, df):\n",
    "    \"\"\"\n",
    "    Method to split a columns values by a provided delimeter while\n",
    "    retaining the associated value of another column.\n",
    "    \n",
    "    :param str column_to_split: column whose values are to be split\n",
    "    :param str delimeter: delimeter to split by\n",
    "    :param str columns_to_store: column who's data must be stored along split rows\n",
    "    :param DataFrame df: dataframe to use\n",
    "    \"\"\"\n",
    "    split_col = pd.DataFrame(columns = [column_to_split, column_to_store])\n",
    "    for index, row in df.iterrows():\n",
    "        columns = row[column_to_split].split(delimeter)\n",
    "\n",
    "        for c in columns:\n",
    "            split_col.loc[len(split_col)] = [c, row[column_to_store]]\n",
    "    return split_col"
   ]
  },
  {
   "cell_type": "code",
   "execution_count": 12,
   "metadata": {},
   "outputs": [
    {
     "data": {
      "text/plain": [
       "array(['Java', 'JavaScript', 'PHP', 'Python', 'SQL', 'Swift', 'C',\n",
       "       'Haskell', 'C++', 'Go', 'C#', 'Matlab', 'TypeScript',\n",
       "       'CoffeeScript', 'VB.NET', 'VBA', 'Visual Basic 6', 'F#',\n",
       "       'Objective-C', 'Ruby', 'Elixir', 'Assembly', 'Scala', 'Perl', 'R',\n",
       "       'Smalltalk'], dtype=object)"
      ]
     },
     "execution_count": 12,
     "metadata": {},
     "output_type": "execute_result"
    }
   ],
   "source": [
    "#Split the columns\n",
    "split_lang = split_column('HaveWorkedLanguage', '; ', 'JobSatisfaction', data_df2)\n",
    "split_lang['HaveWorkedLanguage'].unique()"
   ]
  },
  {
   "cell_type": "code",
   "execution_count": 13,
   "metadata": {},
   "outputs": [
    {
     "data": {
      "text/plain": [
       "HaveWorkedLanguage\n",
       "C++               8.285714\n",
       "Objective-C       8.000000\n",
       "Go                8.000000\n",
       "F#                8.000000\n",
       "C                 7.625000\n",
       "Visual Basic 6    7.166667\n",
       "PHP               6.489796\n",
       "Matlab            6.400000\n",
       "SQL               6.234043\n",
       "JavaScript        6.200000\n",
       "Python            6.058824\n",
       "C#                6.037037\n",
       "VBA               6.000000\n",
       "Swift             6.000000\n",
       "TypeScript        5.800000\n",
       "Java              5.771429\n",
       "Ruby              5.666667\n",
       "CoffeeScript      5.500000\n",
       "VB.NET            5.300000\n",
       "Haskell           5.000000\n",
       "Smalltalk         5.000000\n",
       "Scala             4.666667\n",
       "R                 4.500000\n",
       "Elixir            4.000000\n",
       "Assembly          3.666667\n",
       "Perl              0.000000\n",
       "Name: JobSatisfaction, dtype: float64"
      ]
     },
     "execution_count": 13,
     "metadata": {},
     "output_type": "execute_result"
    }
   ],
   "source": [
    "q3_answer = split_lang.groupby(['HaveWorkedLanguage']).mean()['JobSatisfaction'].sort_values(ascending=False)\n",
    "q3_answer.head(50)"
   ]
  },
  {
   "cell_type": "code",
   "execution_count": 14,
   "metadata": {},
   "outputs": [
    {
     "data": {
      "image/png": "[encoded data removed]",
      "text/plain": [
       "<Figure size 720x720 with 1 Axes>"
      ]
     },
     "metadata": {
      "needs_background": "light"
     },
     "output_type": "display_data"
    }
   ],
   "source": [
    "plt.figure(figsize=(10,10))\n",
    "q3_answer.plot(kind = 'bar')\n",
    "plt.title('Programming languages with highest job satisfaction')\n",
    "plt.ylabel('Job Satisfaction');"
   ]
  },
  {
   "cell_type": "markdown",
   "metadata": {},
   "source": [
    "We can see from the chart above that the top five programming language that has job satisfaction in Nigeria according to Stackoverflow’s 2017 Annual Developer Survey data are C++,Objective-C,Go,F# and C."
   ]
  },
  {
   "cell_type": "markdown",
   "metadata": {},
   "source": [
    "## Conclusion\n",
    "In this Survey, we took a look at what were the most popular languages, framework, database  and most want work programming languages, according to Stackoverflow’s 2017 Annual Developer Survey data.\n",
    "\n",
    "1. We have seen that some older programming languages such as PHP,JavaScript, SQL, and Java still dominates.\n",
    "2. Younger programming languages like Python have been well-deserved to be learned, but the oldest ones still have their value and are being much demanded.\n",
    "3. The most used and most want work framework in Nigeria are JavaScript based.\n"
   ]
  },
  {
   "cell_type": "code",
   "execution_count": null,
   "metadata": {},
   "outputs": [],
   "source": []
  }
 ],
 "metadata": {
  "kernelspec": {
   "display_name": "Python 3",
   "language": "python",
   "name": "python3"
  },
  "language_info": {
   "codemirror_mode": {
    "name": "ipython",
    "version": 3
   },
   "file_extension": ".py",
   "mimetype": "text/x-python",
   "name": "python",
   "nbconvert_exporter": "python",
   "pygments_lexer": "ipython3",
   "version": "3.6.9"
  }
 },
 "nbformat": 4,
 "nbformat_minor": 2
}
